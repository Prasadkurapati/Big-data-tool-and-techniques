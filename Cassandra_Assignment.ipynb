{
  "nbformat": 4,
  "nbformat_minor": 0,
  "metadata": {
    "colab": {
      "provenance": []
    },
    "kernelspec": {
      "name": "python3",
      "display_name": "Python 3"
    },
    "language_info": {
      "name": "python"
    }
  },
  "cells": [
    {
      "cell_type": "code",
      "source": [
        "from google.colab import drive\n",
        "drive.mount('/content/drive')"
      ],
      "metadata": {
        "colab": {
          "base_uri": "https://localhost:8080/"
        },
        "id": "y89yCmsXNNc8",
        "outputId": "acb730a2-b4e1-4918-e148-f74c8c6dc737"
      },
      "execution_count": 48,
      "outputs": [
        {
          "output_type": "stream",
          "name": "stdout",
          "text": [
            "Drive already mounted at /content/drive; to attempt to forcibly remount, call drive.mount(\"/content/drive\", force_remount=True).\n"
          ]
        }
      ]
    },
    {
      "cell_type": "code",
      "source": [
        "pip install cassandra-driver"
      ],
      "metadata": {
        "colab": {
          "base_uri": "https://localhost:8080/"
        },
        "id": "jjgQX6BxN5n1",
        "outputId": "dfe51532-4572-4193-cead-bf104b0cdd11"
      },
      "execution_count": 49,
      "outputs": [
        {
          "output_type": "stream",
          "name": "stdout",
          "text": [
            "Requirement already satisfied: cassandra-driver in /usr/local/lib/python3.10/dist-packages (3.29.2)\n",
            "Requirement already satisfied: geomet<0.3,>=0.1 in /usr/local/lib/python3.10/dist-packages (from cassandra-driver) (0.2.1.post1)\n",
            "Requirement already satisfied: click in /usr/local/lib/python3.10/dist-packages (from geomet<0.3,>=0.1->cassandra-driver) (8.1.7)\n",
            "Requirement already satisfied: six in /usr/local/lib/python3.10/dist-packages (from geomet<0.3,>=0.1->cassandra-driver) (1.16.0)\n"
          ]
        }
      ]
    },
    {
      "cell_type": "code",
      "source": [
        "import pandas as pd"
      ],
      "metadata": {
        "id": "_1xApPYl-xLm"
      },
      "execution_count": 50,
      "outputs": []
    },
    {
      "cell_type": "code",
      "source": [
        "df = pd.read_csv(\"/content/drive/MyDrive/BIG DATA TOOLS AND TECHNIQUES - 1/sales_100.csv\")"
      ],
      "metadata": {
        "id": "WyXbkXCt1AkO"
      },
      "execution_count": 51,
      "outputs": []
    },
    {
      "cell_type": "code",
      "source": [
        "from cassandra.cluster import Cluster\n",
        "from cassandra.auth import PlainTextAuthProvider\n",
        "import json\n",
        "import pandas as pd"
      ],
      "metadata": {
        "id": "xFMB3KaE_fVL"
      },
      "execution_count": 52,
      "outputs": []
    },
    {
      "cell_type": "code",
      "source": [
        "cloud_config= {\n",
        "  'secure_connect_bundle': '/content/drive/MyDrive/BIG DATA TOOLS AND TECHNIQUES - 1/secure-connect-cassandra.zip'\n",
        "}\n",
        "with open(\"/content/drive/MyDrive/BIG DATA TOOLS AND TECHNIQUES - 1/Cassandra-token.json\") as f:\n",
        "    secrets = json.load(f)\n",
        "\n",
        "CLIENT_ID = secrets[\"clientId\"]\n",
        "CLIENT_SECRET = secrets[\"secret\"]\n",
        "\n",
        "auth_provider = PlainTextAuthProvider(CLIENT_ID, CLIENT_SECRET)\n",
        "cluster = Cluster(cloud=cloud_config, auth_provider=auth_provider)\n",
        "session = cluster.connect()\n",
        "\n",
        "if session:\n",
        "  print('Connected!')\n",
        "else:\n",
        "  print(\"An error occurred.\")"
      ],
      "metadata": {
        "colab": {
          "base_uri": "https://localhost:8080/"
        },
        "id": "Y2wWSehWxqop",
        "outputId": "5e54f34b-e2a2-42a6-cc61-247290c5f9f2"
      },
      "execution_count": 53,
      "outputs": [
        {
          "output_type": "stream",
          "name": "stderr",
          "text": [
            "WARNING:cassandra.cluster:Downgrading core protocol version from 66 to 65 for 51343b40-baf4-4517-af6a-506a6f3328b5-eu-west-1.db.astra.datastax.com:29042:678e6a1d-e5b1-3cba-b949-7bfaf823957f. To avoid this, it is best practice to explicitly set Cluster(protocol_version) to the version supported by your cluster. http://datastax.github.io/python-driver/api/cassandra/cluster.html#cassandra.cluster.Cluster.protocol_version\n",
            "WARNING:cassandra.cluster:Downgrading core protocol version from 65 to 5 for 51343b40-baf4-4517-af6a-506a6f3328b5-eu-west-1.db.astra.datastax.com:29042:678e6a1d-e5b1-3cba-b949-7bfaf823957f. To avoid this, it is best practice to explicitly set Cluster(protocol_version) to the version supported by your cluster. http://datastax.github.io/python-driver/api/cassandra/cluster.html#cassandra.cluster.Cluster.protocol_version\n",
            "WARNING:cassandra.cluster:Downgrading core protocol version from 5 to 4 for 51343b40-baf4-4517-af6a-506a6f3328b5-eu-west-1.db.astra.datastax.com:29042:678e6a1d-e5b1-3cba-b949-7bfaf823957f. To avoid this, it is best practice to explicitly set Cluster(protocol_version) to the version supported by your cluster. http://datastax.github.io/python-driver/api/cassandra/cluster.html#cassandra.cluster.Cluster.protocol_version\n"
          ]
        },
        {
          "output_type": "stream",
          "name": "stdout",
          "text": [
            "Connected!\n"
          ]
        }
      ]
    },
    {
      "cell_type": "code",
      "source": [
        "df.columns"
      ],
      "metadata": {
        "colab": {
          "base_uri": "https://localhost:8080/"
        },
        "id": "s15R7TCqNcx2",
        "outputId": "5956cf6e-37f3-4ee4-dce9-00961e402ac5"
      },
      "execution_count": 33,
      "outputs": [
        {
          "output_type": "execute_result",
          "data": {
            "text/plain": [
              "Index(['region', 'order_id', 'country', 'item_type', 'order_date',\n",
              "       'order_priority', 'sales_channel', 'ship_date', 'total_cost',\n",
              "       'total_profit', 'total_revenue', 'unit_cost', 'unit_price',\n",
              "       'units_sold'],\n",
              "      dtype='object')"
            ]
          },
          "metadata": {},
          "execution_count": 33
        }
      ]
    },
    {
      "cell_type": "code",
      "source": [
        "session.set_keyspace('sales_medallion')"
      ],
      "metadata": {
        "id": "QoWXm6sVFCWA"
      },
      "execution_count": 54,
      "outputs": []
    },
    {
      "cell_type": "code",
      "source": [
        "rows = session.execute(\"SELECT * FROM system_schema.columns WHERE keyspace_name = 'sales_medallion' AND table_name = 'bronze_sales'\")\n",
        "for row in rows:\n",
        "    print(f\"Column: {row.column_name}, Type: {row.type}\")"
      ],
      "metadata": {
        "colab": {
          "base_uri": "https://localhost:8080/"
        },
        "id": "6pLNNEn8GAQN",
        "outputId": "1b5bb747-ecc0-480e-aad6-c6195258e9eb"
      },
      "execution_count": 56,
      "outputs": [
        {
          "output_type": "stream",
          "name": "stdout",
          "text": [
            "Column: country, Type: text\n",
            "Column: item_type, Type: text\n",
            "Column: order_date, Type: text\n",
            "Column: order_id, Type: bigint\n",
            "Column: order_priority, Type: text\n",
            "Column: region, Type: text\n",
            "Column: sales_channel, Type: text\n",
            "Column: ship_date, Type: text\n",
            "Column: total_cost, Type: float\n",
            "Column: total_profit, Type: float\n",
            "Column: total_revenue, Type: float\n",
            "Column: unit_cost, Type: float\n",
            "Column: unit_price, Type: float\n",
            "Column: units_sold, Type: int\n"
          ]
        }
      ]
    },
    {
      "cell_type": "code",
      "source": [
        "session.execute(\"\"\"\n",
        "CREATE TABLE IF NOT EXISTS bronze_sales (\n",
        "    order_id TEXT PRIMARY KEY,\n",
        "    region TEXT,\n",
        "    country TEXT,\n",
        "    item_type TEXT,\n",
        "    sales_channel TEXT,\n",
        "    order_priority TEXT,\n",
        "    order_date TEXT,\n",
        "    ship_date TEXT,\n",
        "    units_sold INT,\n",
        "    unit_price DECIMAL,\n",
        "    unit_cost DECIMAL,\n",
        "    total_revenue DECIMAL,\n",
        "    total_cost DECIMAL,\n",
        "    total_profit DECIMAL\n",
        ")\n",
        "\"\"\")"
      ],
      "metadata": {
        "colab": {
          "base_uri": "https://localhost:8080/"
        },
        "id": "gSi8qXuRFh-_",
        "outputId": "675e6d77-c72d-48ee-cec8-6b6a9ddb9acd"
      },
      "execution_count": 55,
      "outputs": [
        {
          "output_type": "execute_result",
          "data": {
            "text/plain": [
              "<cassandra.cluster.ResultSet at 0x78fa0578ef50>"
            ]
          },
          "metadata": {},
          "execution_count": 55
        }
      ]
    },
    {
      "cell_type": "code",
      "source": [
        "rows = session.execute(\"SELECT table_name FROM system_schema.tables WHERE keyspace_name = 'sales_medallion'\")\n",
        "tables = [row.table_name for row in rows]\n",
        "if 'bronze_sales' in tables:\n",
        "    print(\"The bronze_sales table exists.\")\n",
        "else:\n",
        "    print(\"The bronze_sales table does not exist.\")"
      ],
      "metadata": {
        "colab": {
          "base_uri": "https://localhost:8080/"
        },
        "id": "P7qWH0fRGiRk",
        "outputId": "fa6657cf-497e-4c4f-dc2b-f9e37ba46e35"
      },
      "execution_count": 57,
      "outputs": [
        {
          "output_type": "stream",
          "name": "stdout",
          "text": [
            "The bronze_sales table exists.\n"
          ]
        }
      ]
    },
    {
      "cell_type": "code",
      "source": [
        "# Import data from CSV\n",
        "df = pd.read_csv('/content/drive/MyDrive/BIG DATA TOOLS AND TECHNIQUES - 1/sales_100.csv')\n",
        "\n",
        "# Prepare the insert statement\n",
        "insert_statement = session.prepare(\"\"\"\n",
        "    INSERT INTO bronze_sales (\n",
        "        order_id, region, country, item_type, sales_channel, order_priority,\n",
        "        order_date, ship_date, units_sold, unit_price, unit_cost,\n",
        "        total_revenue, total_cost, total_profit\n",
        "    )\n",
        "    VALUES (?, ?, ?, ?, ?, ?, ?, ?, ?, ?, ?, ?, ?, ?)\n",
        "\"\"\")\n",
        "\n",
        "# Insert data row by row\n",
        "for _, row in df.iterrows():\n",
        "    session.execute(insert_statement, (\n",
        "        int(row['Order ID']),  # Convert to int for bigint\n",
        "        row['Region'],\n",
        "        row['Country'],\n",
        "        row['Item Type'],\n",
        "        row['Sales Channel'],\n",
        "        row['Order Priority'],\n",
        "        row['Order Date'],\n",
        "        row['Ship Date'],\n",
        "        int(row['UnitsSold']),  # Ensure this is an int\n",
        "        float(row['UnitPrice']),  # Convert to float\n",
        "        float(row['UnitCost']),  # Convert to float\n",
        "        float(row['TotalRevenue']),  # Convert to float\n",
        "        float(row['TotalCost']),  # Convert to float\n",
        "        float(row['TotalProfit'])  # Convert to float\n",
        "    ))\n",
        "\n",
        "print(\"Data inserted into bronze_sales table.\")"
      ],
      "metadata": {
        "colab": {
          "base_uri": "https://localhost:8080/"
        },
        "id": "YzD0hrRJHAwk",
        "outputId": "de92a6c7-6e04-4643-e117-70fcb5a2bd6e"
      },
      "execution_count": 58,
      "outputs": [
        {
          "output_type": "stream",
          "name": "stdout",
          "text": [
            "Data inserted into bronze_sales table.\n"
          ]
        }
      ]
    },
    {
      "cell_type": "code",
      "source": [
        "# Retrieve and display all rows from the bronze_sales table\n",
        "print(\"Data in bronze_sales table:\")\n",
        "rows = session.execute(\"SELECT * FROM bronze_sales\")\n",
        "for row in rows:\n",
        "    print(row)"
      ],
      "metadata": {
        "colab": {
          "base_uri": "https://localhost:8080/"
        },
        "id": "ooT-DowWH68g",
        "outputId": "99386a25-a2a3-439b-ac45-d79842eb1458"
      },
      "execution_count": 59,
      "outputs": [
        {
          "output_type": "stream",
          "name": "stdout",
          "text": [
            "Data in bronze_sales table:\n",
            "Row(order_id=294530856, country='Italy', item_type='Cereal', order_date='11/15/2011', order_priority='M', region='Europe', sales_channel='Online', ship_date='12/28/2011', total_cost=829138.8125, total_profit=627217.1875, total_revenue=1456356.0, unit_cost=117.11000061035156, unit_price=205.6999969482422, units_sold=7080)\n",
            "Row(order_id=274930989, country='Dominica', item_type='Household', order_date='11/19/2011', order_priority='C', region='Central America and the Caribbean', sales_channel='Offline', ship_date='12/13/2011', total_cost=3539891.75, total_profit=1167402.125, total_revenue=4707294.0, unit_cost=502.5400085449219, unit_price=668.27001953125, units_sold=7044)\n",
            "Row(order_id=498071897, country='Taiwan', item_type='Cereal', order_date='4/11/2010', order_priority='H', region='Asia', sales_channel='Online', ship_date='5/26/2010', total_cost=1100482.625, total_profit=832480.25, total_revenue=1932962.875, unit_cost=117.11000061035156, unit_price=205.6999969482422, units_sold=9397)\n",
            "Row(order_id=940980136, country='New Zealand', item_type='Beverages', order_date='10/11/2012', order_priority='M', region='Australia and Oceania', sales_channel='Online', ship_date='11/4/2012', total_cost=184000.515625, total_profit=90640.078125, total_revenue=274640.59375, unit_cost=31.790000915527344, unit_price=47.45000076293945, units_sold=5788)\n",
            "Row(order_id=324669444, country='France', item_type='Cosmetics', order_date='12/7/2015', order_priority='M', region='Europe', sales_channel='Online', ship_date='1/18/2016', total_cost=1516254.125, total_profit=1001143.4375, total_revenue=2517397.5, unit_cost=263.3299865722656, unit_price=437.20001220703125, units_sold=5758)\n",
            "Row(order_id=830410039, country='Switzerland', item_type='Office Supplies', order_date='7/29/2014', order_priority='C', region='Europe', sales_channel='Offline', ship_date='8/27/2014', total_cost=2960249.5, total_profit=711923.75, total_revenue=3672173.25, unit_cost=524.9600219726562, unit_price=651.2100219726562, units_sold=5639)\n",
            "Row(order_id=953361213, country='Zimbabwe', item_type='Office Supplies', order_date='3/28/2011', order_priority='C', region='Sub-Saharan Africa', sales_channel='Offline', ship_date='4/8/2011', total_cost=5051690.0, total_profit=1214903.75, total_revenue=6266594.0, unit_cost=524.9600219726562, unit_price=651.2100219726562, units_sold=9623)\n",
            "Row(order_id=425418365, country='United Arab Emirates', item_type='Office Supplies', order_date='6/23/2012', order_priority='M', region='Middle East and North Africa', sales_channel='Online', ship_date='7/6/2012', total_cost=5041191.0, total_profit=1212378.75, total_revenue=6253569.5, unit_cost=524.9600219726562, unit_price=651.2100219726562, units_sold=9603)\n",
            "Row(order_id=349235904, country='Mauritius ', item_type='Clothes', order_date='11/17/2012', order_priority='M', region='Sub-Saharan Africa', sales_channel='Offline', ship_date='12/2/2012', total_cost=197836.796875, total_profit=405388.8125, total_revenue=603225.625, unit_cost=35.84000015258789, unit_price=109.27999877929688, units_sold=5520)\n",
            "Row(order_id=246248090, country='The Bahamas', item_type='Personal Care', order_date='1/19/2011', order_priority='C', region='Central America and the Caribbean', sales_channel='Online', ship_date='2/21/2011', total_cost=517793.78125, total_profit=228973.21875, total_revenue=746767.0, unit_cost=56.66999816894531, unit_price=81.7300033569336, units_sold=9137)\n",
            "Row(order_id=368977391, country='Canada', item_type='Cosmetics', order_date='5/9/2011', order_priority='H', region='North America', sales_channel='Online', ship_date='6/2/2011', total_cost=1965495.125, total_profit=1297765.625, total_revenue=3263260.75, unit_cost=263.3299865722656, unit_price=437.20001220703125, units_sold=7464)\n",
            "Row(order_id=572335612, country='Vanuatu', item_type='Cereal', order_date='6/20/2014', order_priority='C', region='Australia and Oceania', sales_channel='Offline', ship_date='8/5/2014', total_cost=665301.9375, total_profit=503279.78125, total_revenue=1168581.75, unit_cost=117.11000061035156, unit_price=205.6999969482422, units_sold=5681)\n",
            "Row(order_id=443368995, country='South Africa', item_type='Fruits', order_date='7/27/2012', order_priority='M', region='Sub-Saharan Africa', sales_channel='Offline', ship_date='7/28/2012', total_cost=11023.5595703125, total_profit=3839.1298828125, total_revenue=14862.6904296875, unit_cost=6.920000076293945, unit_price=9.329999923706055, units_sold=1593)\n",
            "Row(order_id=156295812, country='East Timor', item_type='Cereal', order_date='12/7/2015', order_priority='M', region='Australia and Oceania', sales_channel='Offline', ship_date='12/30/2015', total_cost=30331.490234375, total_profit=22944.810546875, total_revenue=53276.30078125, unit_cost=117.11000061035156, unit_price=205.6999969482422, units_sold=259)\n",
            "Row(order_id=807785928, country='Ethiopia', item_type='Cosmetics', order_date='7/7/2011', order_priority='M', region='Sub-Saharan Africa', sales_channel='Online', ship_date='7/25/2011', total_cost=174324.453125, total_profit=115101.9375, total_revenue=289426.40625, unit_cost=263.3299865722656, unit_price=437.20001220703125, units_sold=662)\n",
            "Row(order_id=678896129, country='Indonesia', item_type='Personal Care', order_date='10/22/2012', order_priority='L', region='Asia', sales_channel='Offline', ship_date='10/31/2012', total_cost=527371.0, total_profit=233208.359375, total_revenue=760579.375, unit_cost=56.66999816894531, unit_price=81.7300033569336, units_sold=9306)\n",
            "Row(order_id=520480573, country='Indonesia', item_type='Household', order_date='9/28/2011', order_priority='C', region='Asia', sales_channel='Online', ship_date='9/28/2011', total_cost=313082.40625, total_profit=103249.7890625, total_revenue=416332.21875, unit_cost=502.5400085449219, unit_price=668.27001953125, units_sold=623)\n",
            "Row(order_id=925136649, country='Serbia', item_type='Clothes', order_date='7/6/2016', order_priority='L', region='Europe', sales_channel='Offline', ship_date='7/13/2016', total_cost=263352.3125, total_profit=539637.125, total_revenue=802989.4375, unit_cost=35.84000015258789, unit_price=109.27999877929688, units_sold=7348)\n",
            "Row(order_id=222504317, country='Belgium', item_type='Personal Care', order_date='11/1/2011', order_priority='H', region='Europe', sales_channel='Online', ship_date='11/20/2011', total_cost=160206.09375, total_profit=70844.6171875, total_revenue=231050.703125, unit_cost=56.66999816894531, unit_price=81.7300033569336, units_sold=2827)\n",
            "Row(order_id=563681733, country='Togo', item_type='Cosmetics', order_date='9/8/2015', order_priority='M', region='Sub-Saharan Africa', sales_channel='Online', ship_date='9/9/2015', total_cost=1265564.0, total_profit=835619.25, total_revenue=2101183.25, unit_cost=263.3299865722656, unit_price=437.20001220703125, units_sold=4806)\n",
            "Row(order_id=488121116, country='The Bahamas', item_type='Fruits', order_date='6/18/2010', order_priority='L', region='Central America and the Caribbean', sales_channel='Offline', ship_date='6/30/2010', total_cost=32800.80078125, total_profit=11423.400390625, total_revenue=44224.19921875, unit_cost=6.920000076293945, unit_price=9.329999923706055, units_sold=4740)\n",
            "Row(order_id=839094388, country='Tonga', item_type='Baby Food', order_date='5/11/2016', order_priority='L', region='Australia and Oceania', sales_channel='Online', ship_date='5/31/2016', total_cost=881752.0, total_profit=530201.6875, total_revenue=1411953.625, unit_cost=159.4199981689453, unit_price=255.27999877929688, units_sold=5531)\n",
            "Row(order_id=500371730, country='Pakistan', item_type='Meat', order_date='12/28/2013', order_priority='M', region='Middle East and North Africa', sales_channel='Online', ship_date='2/15/2014', total_cost=3635594.5, total_profit=570226.8125, total_revenue=4205821.5, unit_cost=364.69000244140625, unit_price=421.8900146484375, units_sold=9969)\n",
            "Row(order_id=845056617, country='Netherlands', item_type='Fruits', order_date='11/19/2016', order_priority='L', region='Europe', sales_channel='Online', ship_date='11/30/2016', total_cost=68418.0390625, total_profit=23827.669921875, total_revenue=92245.7109375, unit_cost=6.920000076293945, unit_price=9.329999923706055, units_sold=9887)\n",
            "Row(order_id=434008300, country='Thailand', item_type='Fruits', order_date='9/30/2012', order_priority='C', region='Asia', sales_channel='Offline', ship_date='11/14/2012', total_cost=10760.599609375, total_profit=3747.550048828125, total_revenue=14508.150390625, unit_cost=6.920000076293945, unit_price=9.329999923706055, units_sold=1555)\n",
            "Row(order_id=862861335, country='The Gambia', item_type='Fruits', order_date='11/20/2011', order_priority='C', region='Sub-Saharan Africa', sales_channel='Online', ship_date='11/22/2011', total_cost=60197.078125, total_profit=20964.58984375, total_revenue=81161.671875, unit_cost=6.920000076293945, unit_price=9.329999923706055, units_sold=8699)\n",
            "Row(order_id=756839835, country='Romania', item_type='Beverages', order_date='2/19/2012', order_priority='M', region='Europe', sales_channel='Online', ship_date='3/13/2012', total_cost=145629.984375, total_profit=71738.4609375, total_revenue=217368.453125, unit_cost=31.790000915527344, unit_price=47.45000076293945, units_sold=4581)\n",
            "Row(order_id=479969346, country='Tunisia ', item_type='Cosmetics', order_date='7/1/2012', order_priority='H', region='Middle East and North Africa', sales_channel='Offline', ship_date='7/20/2012', total_cost=645158.5, total_profit=425981.5, total_revenue=1071140.0, unit_cost=263.3299865722656, unit_price=437.20001220703125, units_sold=2450)\n",
            "Row(order_id=116205585, country='Turkmenistan', item_type='Vegetables', order_date='4/13/2015', order_priority='M', region='Asia', sales_channel='Online', ship_date='6/2/2015', total_cost=606503.125, total_profit=421077.09375, total_revenue=1027580.1875, unit_cost=90.93000030517578, unit_price=154.05999755859375, units_sold=6670)\n",
            "Row(order_id=496523940, country='Ghana', item_type='Fruits', order_date='5/29/2016', order_priority='M', region='Sub-Saharan Africa', sales_channel='Offline', ship_date='6/4/2016', total_cost=9155.16015625, total_profit=3188.429931640625, total_revenue=12343.58984375, unit_cost=6.920000076293945, unit_price=9.329999923706055, units_sold=1323)\n",
            "Row(order_id=710296428, country='Kazakhstan', item_type='Snacks', order_date='9/8/2013', order_priority='L', region='Asia', sales_channel='Online', ship_date='10/25/2013', total_cost=131738.875, total_profit=74549.28125, total_revenue=206288.15625, unit_cost=97.44000244140625, unit_price=152.5800018310547, units_sold=1352)\n",
            "Row(order_id=642134416, country='Finland', item_type='Vegetables', order_date='10/9/2012', order_priority='C', region='Europe', sales_channel='Offline', ship_date='11/27/2012', total_cost=63469.140625, total_profit=44064.73828125, total_revenue=107533.8828125, unit_cost=90.93000030517578, unit_price=154.05999755859375, units_sold=698)\n",
            "Row(order_id=573998582, country='Nicaragua', item_type='Household', order_date='10/28/2015', order_priority='C', region='Central America and the Caribbean', sales_channel='Online', ship_date='12/7/2015', total_cost=3915289.25, total_profit=1291202.375, total_revenue=5206491.5, unit_cost=502.5400085449219, unit_price=668.27001953125, units_sold=7791)\n",
            "Row(order_id=584356629, country='Democratic Republic of the Congo', item_type='Cosmetics', order_date='10/7/2012', order_priority='M', region='Sub-Saharan Africa', sales_channel='Online', ship_date='10/25/2012', total_cost=781300.125, total_profit=515872.28125, total_revenue=1297172.375, unit_cost=263.3299865722656, unit_price=437.20001220703125, units_sold=2967)\n",
            "Row(order_id=704205024, country='Lebanon', item_type='Meat', order_date='3/8/2017', order_priority='L', region='Middle East and North Africa', sales_channel='Online', ship_date='4/18/2017', total_cost=3198331.25, total_profit=501644.0, total_revenue=3699975.25, unit_cost=364.69000244140625, unit_price=421.8900146484375, units_sold=8770)\n",
            "Row(order_id=830192887, country='Sri Lanka', item_type='Fruits', order_date='11/7/2011', order_priority='L', region='Asia', sales_channel='Online', ship_date='12/18/2011', total_cost=9542.6796875, total_profit=3323.389892578125, total_revenue=12866.0703125, unit_cost=6.920000076293945, unit_price=9.329999923706055, units_sold=1379)\n",
            "Row(order_id=835696351, country='Estonia', item_type='Household', order_date='9/1/2011', order_priority='H', region='Europe', sales_channel='Offline', ship_date='10/21/2011', total_cost=5013339.0, total_profit=1653322.5, total_revenue=6666661.5, unit_cost=502.5400085449219, unit_price=668.27001953125, units_sold=9976)\n",
            "Row(order_id=731120240, country='Saint Lucia', item_type='Fruits', order_date='12/12/2015', order_priority='L', region='Central America and the Caribbean', sales_channel='Offline', ship_date='1/12/2016', total_cost=24780.51953125, total_profit=8630.2099609375, total_revenue=33410.73046875, unit_cost=6.920000076293945, unit_price=9.329999923706055, units_sold=3581)\n",
            "Row(order_id=371502530, country='Israel', item_type='Beverages', order_date='9/8/2013', order_priority='H', region='Middle East and North Africa', sales_channel='Offline', ship_date='10/13/2013', total_cost=149699.109375, total_profit=73742.9375, total_revenue=223442.046875, unit_cost=31.790000915527344, unit_price=47.45000076293945, units_sold=4709)\n",
            "Row(order_id=425793445, country='Seychelles ', item_type='Beverages', order_date='1/18/2013', order_priority='M', region='Sub-Saharan Africa', sales_channel='Online', ship_date='2/16/2013', total_cost=18978.630859375, total_profit=9349.01953125, total_revenue=28327.650390625, unit_cost=31.790000915527344, unit_price=47.45000076293945, units_sold=597)\n",
            "Row(order_id=937431466, country='Samoa ', item_type='Household', order_date='12/5/2016', order_priority='L', region='Australia and Oceania', sales_channel='Online', ship_date='12/8/2016', total_cost=2842868.75, total_profit=937534.625, total_revenue=3780403.5, unit_cost=502.5400085449219, unit_price=668.27001953125, units_sold=5657)\n",
            "Row(order_id=485070693, country='Haiti', item_type='Office Supplies', order_date='12/31/2010', order_priority='C', region='Central America and the Caribbean', sales_channel='Online', ship_date='1/31/2011', total_cost=1077217.875, total_profit=259065.0, total_revenue=1336282.875, unit_cost=524.9600219726562, unit_price=651.2100219726562, units_sold=2052)\n",
            "Row(order_id=757619178, country='Turkmenistan', item_type='Meat', order_date='4/30/2017', order_priority='M', region='Asia', sales_channel='Online', ship_date='5/14/2017', total_cost=1898576.125, total_profit=297783.1875, total_revenue=2196359.25, unit_cost=364.69000244140625, unit_price=421.8900146484375, units_sold=5206)\n",
            "Row(order_id=882908809, country='Egypt', item_type='Clothes', order_date='8/9/2016', order_priority='C', region='Middle East and North Africa', sales_channel='Online', ship_date='8/24/2016', total_cost=42721.28125, total_profit=87540.4765625, total_revenue=130261.7578125, unit_cost=35.84000015258789, unit_price=109.27999877929688, units_sold=1192)\n",
            "Row(order_id=146634709, country='Liberia', item_type='Baby Food', order_date='6/6/2015', order_priority='H', region='Sub-Saharan Africa', sales_channel='Offline', ship_date='6/12/2015', total_cost=211072.078125, total_profit=126918.640625, total_revenue=337990.71875, unit_cost=159.4199981689453, unit_price=255.27999877929688, units_sold=1324)\n",
            "Row(order_id=363086831, country='Mali', item_type='Household', order_date='8/19/2010', order_priority='M', region='Sub-Saharan Africa', sales_channel='Offline', ship_date='9/7/2010', total_cost=2169465.25, total_profit=715456.4375, total_revenue=2884921.5, unit_cost=502.5400085449219, unit_price=668.27001953125, units_sold=4317)\n",
            "Row(order_id=179137074, country='Nepal', item_type='Meat', order_date='2/21/2014', order_priority='H', region='Asia', sales_channel='Online', ship_date='3/14/2014', total_cost=3463096.25, total_profit=543171.1875, total_revenue=4006267.5, unit_cost=364.69000244140625, unit_price=421.8900146484375, units_sold=9496)\n",
            "Row(order_id=529276502, country='Burundi', item_type='Beverages', order_date='3/9/2011', order_priority='H', region='Sub-Saharan Africa', sales_channel='Online', ship_date='4/9/2011', total_cost=112314.0703125, total_profit=55326.78125, total_revenue=167640.84375, unit_cost=31.790000915527344, unit_price=47.45000076293945, units_sold=3533)\n",
            "Row(order_id=297876536, country='South Korea', item_type='Meat', order_date='3/16/2016', order_priority='L', region='Asia', sales_channel='Offline', ship_date='4/20/2016', total_cost=2604251.25, total_profit=408465.1875, total_revenue=3012716.5, unit_cost=364.69000244140625, unit_price=421.8900146484375, units_sold=7141)\n",
            "Row(order_id=459386289, country='Kuwait', item_type='Household', order_date='6/13/2011', order_priority='C', region='Middle East and North Africa', sales_channel='Offline', ship_date='7/21/2011', total_cost=736723.625, total_profit=242960.1875, total_revenue=979683.8125, unit_cost=502.5400085449219, unit_price=668.27001953125, units_sold=1466)\n",
            "Row(order_id=887124383, country='Greece', item_type='Cereal', order_date='8/22/2015', order_priority='H', region='Europe', sales_channel='Online', ship_date='10/8/2015', total_cost=1015812.125, total_profit=768429.6875, total_revenue=1784241.75, unit_cost=117.11000061035156, unit_price=205.6999969482422, units_sold=8674)\n",
            "Row(order_id=824714744, country='Dominican Republic', item_type='Baby Food', order_date='8/25/2011', order_priority='H', region='Central America and the Caribbean', sales_channel='Offline', ship_date='9/24/2011', total_cost=43681.078125, total_profit=26265.640625, total_revenue=69946.71875, unit_cost=159.4199981689453, unit_price=255.27999877929688, units_sold=274)\n",
            "Row(order_id=842238795, country='Uganda', item_type='Cosmetics', order_date='2/28/2015', order_priority='M', region='Sub-Saharan Africa', sales_channel='Online', ship_date='3/15/2015', total_cost=1588143.25, total_profit=1048610.0, total_revenue=2636753.25, unit_cost=263.3299865722656, unit_price=437.20001220703125, units_sold=6031)\n",
            "Row(order_id=797385394, country='Italy', item_type='Office Supplies', order_date='3/29/2011', order_priority='H', region='Europe', sales_channel='Online', ship_date='4/11/2011', total_cost=1529208.5, total_profit=367766.25, total_revenue=1896974.75, unit_cost=524.9600219726562, unit_price=651.2100219726562, units_sold=2913)\n",
            "Row(order_id=153842341, country='Brunei', item_type='Cereal', order_date='5/28/2013', order_priority='L', region='Asia', sales_channel='Offline', ship_date='7/16/2013', total_cost=494438.40625, total_profit=374026.96875, total_revenue=868465.375, unit_cost=117.11000061035156, unit_price=205.6999969482422, units_sold=4222)\n",
            "Row(order_id=659878194, country='Tanzania', item_type='Beverages', order_date='11/30/2016', order_priority='L', region='Sub-Saharan Africa', sales_channel='Online', ship_date='1/16/2017', total_cost=46922.0390625, total_profit=23114.16015625, total_revenue=70036.203125, unit_cost=31.790000915527344, unit_price=47.45000076293945, units_sold=1476)\n",
            "Row(order_id=314505374, country='Vietnam', item_type='Personal Care', order_date='4/4/2010', order_priority='M', region='Asia', sales_channel='Online', ship_date='5/6/2010', total_cost=452453.28125, total_profit=200079.046875, total_revenue=652532.3125, unit_cost=56.66999816894531, unit_price=81.7300033569336, units_sold=7984)\n",
            "Row(order_id=791778934, country='Ghana', item_type='Clothes', order_date='11/2/2011', order_priority='M', region='Sub-Saharan Africa', sales_channel='Online', ship_date='12/1/2011', total_cost=137482.234375, total_profit=281715.84375, total_revenue=419198.09375, unit_cost=35.84000015258789, unit_price=109.27999877929688, units_sold=3836)\n",
            "Row(order_id=747796285, country='Japan', item_type='Household', order_date='7/16/2014', order_priority='M', region='Asia', sales_channel='Offline', ship_date='7/24/2014', total_cost=4217818.0, total_profit=1390971.875, total_revenue=5608790.0, unit_cost=502.5400085449219, unit_price=668.27001953125, units_sold=8393)\n",
            "Row(order_id=667593514, country='Morocco', item_type='Clothes', order_date='9/14/2013', order_priority='M', region='Middle East and North Africa', sales_channel='Online', ship_date='10/19/2013', total_cost=165258.234375, total_profit=338631.84375, total_revenue=503890.09375, unit_cost=35.84000015258789, unit_price=109.27999877929688, units_sold=4611)\n",
            "Row(order_id=887409770, country='Italy', item_type='Cereal', order_date='11/30/2015', order_priority='C', region='Europe', sales_channel='Online', ship_date='12/5/2015', total_cost=366085.875, total_profit=276932.34375, total_revenue=643018.1875, unit_cost=117.11000061035156, unit_price=205.6999969482422, units_sold=3126)\n",
            "Row(order_id=940995585, country='Papua New Guinea', item_type='Meat', order_date='5/15/2015', order_priority='M', region='Australia and Oceania', sales_channel='Offline', ship_date='6/4/2015', total_cost=131288.40625, total_profit=20592.0, total_revenue=151880.40625, unit_cost=364.69000244140625, unit_price=421.8900146484375, units_sold=360)\n",
            "Row(order_id=358570849, country='Oman', item_type='Cosmetics', order_date='11/29/2010', order_priority='H', region='Middle East and North Africa', sales_channel='Online', ship_date='12/28/2010', total_cost=2090050.25, total_profit=1380006.25, total_revenue=3470056.5, unit_cost=263.3299865722656, unit_price=437.20001220703125, units_sold=7937)\n",
            "Row(order_id=678230941, country='Iceland', item_type='Baby Food', order_date='10/2/2010', order_priority='M', region='Europe', sales_channel='Offline', ship_date='11/3/2010', total_cost=392492.03125, total_profit=236007.3125, total_revenue=628499.375, unit_cost=159.4199981689453, unit_price=255.27999877929688, units_sold=2462)\n",
            "Row(order_id=180908620, country='Moldova ', item_type='Fruits', order_date='1/27/2013', order_priority='C', region='Europe', sales_channel='Online', ship_date='3/3/2013', total_cost=25853.119140625, total_profit=9003.759765625, total_revenue=34856.87890625, unit_cost=6.920000076293945, unit_price=9.329999923706055, units_sold=3736)\n",
            "Row(order_id=265081918, country='Sweden', item_type='Beverages', order_date='9/13/2012', order_priority='H', region='Europe', sales_channel='Online', ship_date='10/12/2012', total_cost=78998.1484375, total_profit=38915.1015625, total_revenue=117913.25, unit_cost=31.790000915527344, unit_price=47.45000076293945, units_sold=2485)\n",
            "Row(order_id=315402734, country='Belize', item_type='Personal Care', order_date='6/14/2015', order_priority='H', region='Central America and the Caribbean', sales_channel='Online', ship_date='8/2/2015', total_cost=200215.109375, total_profit=88536.9765625, total_revenue=288752.09375, unit_cost=56.66999816894531, unit_price=81.7300033569336, units_sold=3533)\n",
            "Row(order_id=156530129, country='Tanzania', item_type='Fruits', order_date='10/20/2014', order_priority='H', region='Sub-Saharan Africa', sales_channel='Offline', ship_date='11/29/2014', total_cost=66425.078125, total_profit=23133.58984375, total_revenue=89558.671875, unit_cost=6.920000076293945, unit_price=9.329999923706055, units_sold=9599)\n",
            "Row(order_id=647164094, country='Papua New Guinea', item_type='Clothes', order_date='6/20/2011', order_priority='L', region='Australia and Oceania', sales_channel='Offline', ship_date='7/14/2011', total_cost=325857.28125, total_profit=667716.5, total_revenue=993573.75, unit_cost=35.84000015258789, unit_price=109.27999877929688, units_sold=9092)\n",
            "Row(order_id=286891067, country='Antigua and Barbuda ', item_type='Office Supplies', order_date='10/2/2011', order_priority='C', region='Central America and the Caribbean', sales_channel='Offline', ship_date='10/4/2011', total_cost=3305673.0, total_profit=794996.25, total_revenue=4100669.25, unit_cost=524.9600219726562, unit_price=651.2100219726562, units_sold=6297)\n",
            "Row(order_id=633134210, country='Romania', item_type='Cereal', order_date='4/16/2015', order_priority='M', region='Europe', sales_channel='Online', ship_date='4/18/2015', total_cost=859236.0625, total_profit=649984.8125, total_revenue=1509220.875, unit_cost=117.11000061035156, unit_price=205.6999969482422, units_sold=7337)\n",
            "Row(order_id=548299157, country='Sao Tome and Principe', item_type='Clothes', order_date='11/11/2015', order_priority='L', region='Sub-Saharan Africa', sales_channel='Offline', ship_date='12/28/2015', total_cost=98918.3984375, total_profit=202694.40625, total_revenue=301612.8125, unit_cost=35.84000015258789, unit_price=109.27999877929688, units_sold=2760)\n",
            "Row(order_id=761723172, country='Algeria', item_type='Cosmetics', order_date='2/18/2011', order_priority='M', region='Middle East and North Africa', sales_channel='Online', ship_date='2/24/2011', total_cost=2546137.75, total_profit=1681149.0, total_revenue=4227287.0, unit_cost=263.3299865722656, unit_price=437.20001220703125, units_sold=9669)\n",
            "Row(order_id=699160754, country='Rwanda', item_type='Fruits', order_date='9/5/2012', order_priority='L', region='Sub-Saharan Africa', sales_channel='Online', ship_date='9/15/2012', total_cost=41928.28125, total_profit=14602.1904296875, total_revenue=56530.46875, unit_cost=6.920000076293945, unit_price=9.329999923706055, units_sold=6059)\n",
            "Row(order_id=174590194, country='Slovakia', item_type='Beverages', order_date='10/26/2016', order_priority='L', region='Europe', sales_channel='Offline', ship_date='12/4/2016', total_cost=126301.671875, total_profit=62217.1796875, total_revenue=188518.84375, unit_cost=31.790000915527344, unit_price=47.45000076293945, units_sold=3973)\n",
            "Row(order_id=440306556, country='India', item_type='Snacks', order_date='10/10/2012', order_priority='L', region='Asia', sales_channel='Online', ship_date='11/20/2012', total_cost=521206.5625, total_profit=294943.875, total_revenue=816150.4375, unit_cost=97.44000244140625, unit_price=152.5800018310547, units_sold=5349)\n",
            "Row(order_id=571997869, country='Vanuatu', item_type='Fruits', order_date='11/3/2013', order_priority='C', region='Australia and Oceania', sales_channel='Online', ship_date='11/11/2013', total_cost=39686.19921875, total_profit=13821.349609375, total_revenue=53507.55078125, unit_cost=6.920000076293945, unit_price=9.329999923706055, units_sold=5735)\n",
            "Row(order_id=101328551, country='Solomon Islands', item_type='Household', order_date='12/17/2010', order_priority='M', region='Australia and Oceania', sales_channel='Online', ship_date='12/28/2010', total_cost=2123231.5, total_profit=700209.25, total_revenue=2823440.75, unit_cost=502.5400085449219, unit_price=668.27001953125, units_sold=4225)\n",
            "Row(order_id=757257401, country='Finland', item_type='Household', order_date='1/15/2016', order_priority='H', region='Europe', sales_channel='Offline', ship_date='1/31/2016', total_cost=4094696.0, total_profit=1350368.0, total_revenue=5445064.0, unit_cost=502.5400085449219, unit_price=668.27001953125, units_sold=8148)\n",
            "Row(order_id=438011872, country='Dominica', item_type='Beverages', order_date='6/12/2012', order_priority='L', region='Central America and the Caribbean', sales_channel='Online', ship_date='7/18/2012', total_cost=200308.796875, total_profit=98673.65625, total_revenue=298982.4375, unit_cost=31.790000915527344, unit_price=47.45000076293945, units_sold=6301)\n",
            "Row(order_id=732588374, country='Taiwan', item_type='Fruits', order_date='2/9/2014', order_priority='M', region='Asia', sales_channel='Offline', ship_date='2/23/2014', total_cost=55595.28125, total_profit=19361.939453125, total_revenue=74957.21875, unit_cost=6.920000076293945, unit_price=9.329999923706055, units_sold=8034)\n",
            "Row(order_id=726137769, country='Czech Republic', item_type='Cosmetics', order_date='3/22/2014', order_priority='H', region='Europe', sales_channel='Online', ship_date='4/26/2014', total_cost=2411312.75, total_profit=1592127.625, total_revenue=4003440.5, unit_cost=263.3299865722656, unit_price=437.20001220703125, units_sold=9157)\n",
            "Row(order_id=467399013, country='Monaco', item_type='Beverages', order_date='5/29/2016', order_priority='M', region='Europe', sales_channel='Offline', ship_date='6/14/2016', total_cost=82940.109375, total_profit=40856.94140625, total_revenue=123797.046875, unit_cost=31.790000915527344, unit_price=47.45000076293945, units_sold=2609)\n",
            "Row(order_id=176461303, country='Singapore', item_type='Snacks', order_date='1/28/2013', order_priority='C', region='Asia', sales_channel='Online', ship_date='2/7/2013', total_cost=747949.4375, total_profit=423254.625, total_revenue=1171204.125, unit_cost=97.44000244140625, unit_price=152.5800018310547, units_sold=7676)\n",
            "Row(order_id=450544869, country='Malawi', item_type='Meat', order_date='3/1/2016', order_priority='H', region='Sub-Saharan Africa', sales_channel='Offline', ship_date='3/12/2016', total_cost=1857730.875, total_profit=291376.8125, total_revenue=2149107.75, unit_cost=364.69000244140625, unit_price=421.8900146484375, units_sold=5094)\n",
            "Row(order_id=902511680, country='Montenegro', item_type='Clothes', order_date='9/4/2016', order_priority='M', region='Europe', sales_channel='Offline', ship_date='9/8/2016', total_cost=75873.28125, total_profit=155472.484375, total_revenue=231345.765625, unit_cost=35.84000015258789, unit_price=109.27999877929688, units_sold=2117)\n",
            "Row(order_id=739008080, country='Tanzania', item_type='Cosmetics', order_date='5/23/2016', order_priority='L', region='Sub-Saharan Africa', sales_channel='Offline', ship_date='5/24/2016', total_cost=2045547.5, total_profit=1350622.125, total_revenue=3396169.5, unit_cost=263.3299865722656, unit_price=437.20001220703125, units_sold=7768)\n",
            "Row(order_id=252889239, country='Thailand', item_type='Meat', order_date='2/4/2015', order_priority='C', region='Asia', sales_channel='Online', ship_date='2/19/2015', total_cost=1605000.75, total_profit=251737.203125, total_revenue=1856737.875, unit_cost=364.69000244140625, unit_price=421.8900146484375, units_sold=4401)\n",
            "Row(order_id=190777862, country='United States of America', item_type='Personal Care', order_date='1/21/2016', order_priority='H', region='North America', sales_channel='Online', ship_date='2/19/2016', total_cost=241640.875, total_profit=106855.84375, total_revenue=348496.71875, unit_cost=56.66999816894531, unit_price=81.7300033569336, units_sold=4264)\n",
            "Row(order_id=104191863, country='Albania', item_type='Personal Care', order_date='2/6/2016', order_priority='M', region='Europe', sales_channel='Offline', ship_date='2/11/2016', total_cost=87441.8125, total_profit=38667.578125, total_revenue=126109.390625, unit_cost=56.66999816894531, unit_price=81.7300033569336, units_sold=1543)\n",
            "Row(order_id=343752610, country='Nicaragua', item_type='Baby Food', order_date='11/11/2016', order_priority='L', region='Central America and the Caribbean', sales_channel='Online', ship_date='11/16/2016', total_cost=460883.21875, total_profit=277131.25, total_revenue=738014.5, unit_cost=159.4199981689453, unit_price=255.27999877929688, units_sold=2891)\n",
            "Row(order_id=955894076, country='Malaysia', item_type='Beverages', order_date='11/13/2014', order_priority='M', region='Asia', sales_channel='Online', ship_date='12/28/2014', total_cost=291005.65625, total_profit=143351.640625, total_revenue=434357.3125, unit_cost=31.790000915527344, unit_price=47.45000076293945, units_sold=9154)\n",
            "Row(order_id=752525556, country='Albania', item_type='Baby Food', order_date='7/19/2012', order_priority='H', region='Europe', sales_channel='Offline', ship_date='8/13/2012', total_cost=1257823.75, total_profit=756335.375, total_revenue=2014159.25, unit_cost=159.4199981689453, unit_price=255.27999877929688, units_sold=7890)\n",
            "Row(order_id=539471471, country='Uganda', item_type='Personal Care', order_date='6/19/2014', order_priority='M', region='Sub-Saharan Africa', sales_channel='Online', ship_date='7/21/2014', total_cost=25558.169921875, total_profit=11302.0595703125, total_revenue=36860.23046875, unit_cost=56.66999816894531, unit_price=81.7300033569336, units_sold=451)\n",
            "Row(order_id=198927056, country='China', item_type='Office Supplies', order_date='2/10/2016', order_priority='M', region='Asia', sales_channel='Online', ship_date='3/29/2016', total_cost=3040043.25, total_profit=731113.75, total_revenue=3771157.0, unit_cost=524.9600219726562, unit_price=651.2100219726562, units_sold=5791)\n",
            "Row(order_id=880811536, country='Djibouti', item_type='Clothes', order_date='5/17/2017', order_priority='H', region='Sub-Saharan Africa', sales_channel='Offline', ship_date='7/2/2017', total_cost=20142.080078125, total_profit=41273.28125, total_revenue=61415.359375, unit_cost=35.84000015258789, unit_price=109.27999877929688, units_sold=562)\n",
            "Row(order_id=601245963, country='Ghana', item_type='Office Supplies', order_date='3/23/2017', order_priority='L', region='Sub-Saharan Africa', sales_channel='Online', ship_date='4/15/2017', total_cost=470364.15625, total_profit=113120.0, total_revenue=583484.1875, unit_cost=524.9600219726562, unit_price=651.2100219726562, units_sold=896)\n",
            "Row(order_id=494570004, country='Madagascar', item_type='Clothes', order_date='10/17/2016', order_priority='L', region='Sub-Saharan Africa', sales_channel='Online', ship_date='10/26/2016', total_cost=111462.3984375, total_profit=228398.40625, total_revenue=339860.8125, unit_cost=35.84000015258789, unit_price=109.27999877929688, units_sold=3110)\n",
            "Row(order_id=135178029, country='United Kingdom', item_type='Cosmetics', order_date='5/1/2015', order_priority='L', region='Europe', sales_channel='Online', ship_date='5/16/2015', total_cost=273336.53125, total_profit=180477.0625, total_revenue=453813.59375, unit_cost=263.3299865722656, unit_price=437.20001220703125, units_sold=1038)\n"
          ]
        }
      ]
    },
    {
      "cell_type": "code",
      "source": [
        "# Create Silver table with region as part of the primary key\n",
        "session.execute(\"\"\"\n",
        "CREATE TABLE IF NOT EXISTS silver_sales (\n",
        "    order_id BIGINT,\n",
        "    region TEXT,\n",
        "    country TEXT,\n",
        "    item_type TEXT,\n",
        "    sales_channel TEXT,\n",
        "    order_priority TEXT,\n",
        "    order_date DATE,\n",
        "    ship_date DATE,\n",
        "    units_sold INT,\n",
        "    unit_price FLOAT,\n",
        "    unit_cost FLOAT,\n",
        "    total_revenue FLOAT,\n",
        "    total_cost FLOAT,\n",
        "    total_profit FLOAT,\n",
        "    PRIMARY KEY (region, order_id)  -- Include region in the primary key\n",
        ")\n",
        "\"\"\")"
      ],
      "metadata": {
        "colab": {
          "base_uri": "https://localhost:8080/"
        },
        "id": "SAnUE2acLlxJ",
        "outputId": "9a410cb4-5afb-414d-9467-c084f7bef734"
      },
      "execution_count": 51,
      "outputs": [
        {
          "output_type": "execute_result",
          "data": {
            "text/plain": [
              "<cassandra.cluster.ResultSet at 0x7f6125635360>"
            ]
          },
          "metadata": {},
          "execution_count": 51
        }
      ]
    },
    {
      "cell_type": "code",
      "source": [
        "# Transfer and clean data from Bronze to Silver\n",
        "rows = session.execute(\"SELECT * FROM bronze_sales\")\n",
        "for row in rows:\n",
        "    clean_order_date = pd.to_datetime(row.order_date).date()\n",
        "    clean_ship_date = pd.to_datetime(row.ship_date).date()\n",
        "\n",
        "    session.execute(\"\"\"\n",
        "    INSERT INTO silver_sales (\n",
        "        order_id, region, country, item_type, sales_channel, order_priority,\n",
        "        order_date, ship_date, units_sold, unit_price, unit_cost,\n",
        "        total_revenue, total_cost, total_profit\n",
        "    )\n",
        "    VALUES (%s, %s, %s, %s, %s, %s, %s, %s, %s, %s, %s, %s, %s, %s)\n",
        "    \"\"\", (\n",
        "        row.order_id,\n",
        "        row.region,\n",
        "        row.country,\n",
        "        row.item_type,\n",
        "        row.sales_channel,\n",
        "        row.order_priority,\n",
        "        clean_order_date,\n",
        "        clean_ship_date,\n",
        "        row.units_sold,\n",
        "        row.unit_price,\n",
        "        row.unit_cost,\n",
        "        row.total_revenue,\n",
        "        row.total_cost,\n",
        "        row.total_profit\n",
        "    ))\n",
        "\n",
        "print(\"Data cleaned and inserted into silver_sales table.\")"
      ],
      "metadata": {
        "colab": {
          "base_uri": "https://localhost:8080/"
        },
        "id": "AfUIc50bLpqG",
        "outputId": "325f12cd-cdeb-4707-d41d-58841bf124c8"
      },
      "execution_count": 52,
      "outputs": [
        {
          "output_type": "stream",
          "name": "stdout",
          "text": [
            "Data cleaned and inserted into silver_sales table.\n"
          ]
        }
      ]
    },
    {
      "cell_type": "code",
      "source": [
        "# Retrieve and display all rows from the silver_sales table\n",
        "print(\"\\nData in silver_sales table:\")\n",
        "silver_rows = session.execute(\"SELECT * FROM silver_sales\")\n",
        "for silver_row in silver_rows:\n",
        "    print(silver_row)"
      ],
      "metadata": {
        "colab": {
          "base_uri": "https://localhost:8080/"
        },
        "id": "JPP-ox_mKINr",
        "outputId": "321620af-659c-48dc-b31c-7d9b3d44ca1d"
      },
      "execution_count": 54,
      "outputs": [
        {
          "output_type": "stream",
          "name": "stdout",
          "text": [
            "\n",
            "Data in silver_sales table:\n",
            "Row(region='Australia and Oceania', order_id=101328551, country='Solomon Islands', item_type='Household', order_date=Date(14960), order_priority='M', sales_channel='Online', ship_date=Date(14971), total_cost=2123231.5, total_profit=700209.25, total_revenue=2823440.75, unit_cost=502.5400085449219, unit_price=668.27001953125, units_sold=4225)\n",
            "Row(region='Australia and Oceania', order_id=156295812, country='East Timor', item_type='Cereal', order_date=Date(16776), order_priority='M', sales_channel='Offline', ship_date=Date(16799), total_cost=30331.490234375, total_profit=22944.810546875, total_revenue=53276.30078125, unit_cost=117.11000061035156, unit_price=205.6999969482422, units_sold=259)\n",
            "Row(region='Australia and Oceania', order_id=571997869, country='Vanuatu', item_type='Fruits', order_date=Date(16012), order_priority='C', sales_channel='Online', ship_date=Date(16020), total_cost=39686.19921875, total_profit=13821.349609375, total_revenue=53507.55078125, unit_cost=6.920000076293945, unit_price=9.329999923706055, units_sold=5735)\n",
            "Row(region='Australia and Oceania', order_id=572335612, country='Vanuatu', item_type='Cereal', order_date=Date(16241), order_priority='C', sales_channel='Offline', ship_date=Date(16287), total_cost=665301.9375, total_profit=503279.78125, total_revenue=1168581.75, unit_cost=117.11000061035156, unit_price=205.6999969482422, units_sold=5681)\n",
            "Row(region='Australia and Oceania', order_id=647164094, country='Papua New Guinea', item_type='Clothes', order_date=Date(15145), order_priority='L', sales_channel='Offline', ship_date=Date(15169), total_cost=325857.28125, total_profit=667716.5, total_revenue=993573.75, unit_cost=35.84000015258789, unit_price=109.27999877929688, units_sold=9092)\n",
            "Row(region='Australia and Oceania', order_id=839094388, country='Tonga', item_type='Baby Food', order_date=Date(16932), order_priority='L', sales_channel='Online', ship_date=Date(16952), total_cost=881752.0, total_profit=530201.6875, total_revenue=1411953.625, unit_cost=159.4199981689453, unit_price=255.27999877929688, units_sold=5531)\n",
            "Row(region='Australia and Oceania', order_id=937431466, country='Samoa ', item_type='Household', order_date=Date(17140), order_priority='L', sales_channel='Online', ship_date=Date(17143), total_cost=2842868.75, total_profit=937534.625, total_revenue=3780403.5, unit_cost=502.5400085449219, unit_price=668.27001953125, units_sold=5657)\n",
            "Row(region='Australia and Oceania', order_id=940980136, country='New Zealand', item_type='Beverages', order_date=Date(15624), order_priority='M', sales_channel='Online', ship_date=Date(15648), total_cost=184000.515625, total_profit=90640.078125, total_revenue=274640.59375, unit_cost=31.790000915527344, unit_price=47.45000076293945, units_sold=5788)\n",
            "Row(region='Australia and Oceania', order_id=940995585, country='Papua New Guinea', item_type='Meat', order_date=Date(16570), order_priority='M', sales_channel='Offline', ship_date=Date(16590), total_cost=131288.40625, total_profit=20592.0, total_revenue=151880.40625, unit_cost=364.69000244140625, unit_price=421.8900146484375, units_sold=360)\n",
            "Row(region='Europe', order_id=104191863, country='Albania', item_type='Personal Care', order_date=Date(16837), order_priority='M', sales_channel='Offline', ship_date=Date(16842), total_cost=87441.8125, total_profit=38667.578125, total_revenue=126109.390625, unit_cost=56.66999816894531, unit_price=81.7300033569336, units_sold=1543)\n",
            "Row(region='Europe', order_id=135178029, country='United Kingdom', item_type='Cosmetics', order_date=Date(16556), order_priority='L', sales_channel='Online', ship_date=Date(16571), total_cost=273336.53125, total_profit=180477.0625, total_revenue=453813.59375, unit_cost=263.3299865722656, unit_price=437.20001220703125, units_sold=1038)\n",
            "Row(region='Europe', order_id=174590194, country='Slovakia', item_type='Beverages', order_date=Date(17100), order_priority='L', sales_channel='Offline', ship_date=Date(17139), total_cost=126301.671875, total_profit=62217.1796875, total_revenue=188518.84375, unit_cost=31.790000915527344, unit_price=47.45000076293945, units_sold=3973)\n",
            "Row(region='Europe', order_id=180908620, country='Moldova ', item_type='Fruits', order_date=Date(15732), order_priority='C', sales_channel='Online', ship_date=Date(15767), total_cost=25853.119140625, total_profit=9003.759765625, total_revenue=34856.87890625, unit_cost=6.920000076293945, unit_price=9.329999923706055, units_sold=3736)\n",
            "Row(region='Europe', order_id=222504317, country='Belgium', item_type='Personal Care', order_date=Date(15279), order_priority='H', sales_channel='Online', ship_date=Date(15298), total_cost=160206.09375, total_profit=70844.6171875, total_revenue=231050.703125, unit_cost=56.66999816894531, unit_price=81.7300033569336, units_sold=2827)\n",
            "Row(region='Europe', order_id=265081918, country='Sweden', item_type='Beverages', order_date=Date(15596), order_priority='H', sales_channel='Online', ship_date=Date(15625), total_cost=78998.1484375, total_profit=38915.1015625, total_revenue=117913.25, unit_cost=31.790000915527344, unit_price=47.45000076293945, units_sold=2485)\n",
            "Row(region='Europe', order_id=294530856, country='Italy', item_type='Cereal', order_date=Date(15293), order_priority='M', sales_channel='Online', ship_date=Date(15336), total_cost=829138.8125, total_profit=627217.1875, total_revenue=1456356.0, unit_cost=117.11000061035156, unit_price=205.6999969482422, units_sold=7080)\n",
            "Row(region='Europe', order_id=324669444, country='France', item_type='Cosmetics', order_date=Date(16776), order_priority='M', sales_channel='Online', ship_date=Date(16818), total_cost=1516254.125, total_profit=1001143.4375, total_revenue=2517397.5, unit_cost=263.3299865722656, unit_price=437.20001220703125, units_sold=5758)\n",
            "Row(region='Europe', order_id=467399013, country='Monaco', item_type='Beverages', order_date=Date(16950), order_priority='M', sales_channel='Offline', ship_date=Date(16966), total_cost=82940.109375, total_profit=40856.94140625, total_revenue=123797.046875, unit_cost=31.790000915527344, unit_price=47.45000076293945, units_sold=2609)\n",
            "Row(region='Europe', order_id=633134210, country='Romania', item_type='Cereal', order_date=Date(16541), order_priority='M', sales_channel='Online', ship_date=Date(16543), total_cost=859236.0625, total_profit=649984.8125, total_revenue=1509220.875, unit_cost=117.11000061035156, unit_price=205.6999969482422, units_sold=7337)\n",
            "Row(region='Europe', order_id=642134416, country='Finland', item_type='Vegetables', order_date=Date(15622), order_priority='C', sales_channel='Offline', ship_date=Date(15671), total_cost=63469.140625, total_profit=44064.73828125, total_revenue=107533.8828125, unit_cost=90.93000030517578, unit_price=154.05999755859375, units_sold=698)\n",
            "Row(region='Europe', order_id=678230941, country='Iceland', item_type='Baby Food', order_date=Date(14884), order_priority='M', sales_channel='Offline', ship_date=Date(14916), total_cost=392492.03125, total_profit=236007.3125, total_revenue=628499.375, unit_cost=159.4199981689453, unit_price=255.27999877929688, units_sold=2462)\n",
            "Row(region='Europe', order_id=726137769, country='Czech Republic', item_type='Cosmetics', order_date=Date(16151), order_priority='H', sales_channel='Online', ship_date=Date(16186), total_cost=2411312.75, total_profit=1592127.625, total_revenue=4003440.5, unit_cost=263.3299865722656, unit_price=437.20001220703125, units_sold=9157)\n",
            "Row(region='Europe', order_id=752525556, country='Albania', item_type='Baby Food', order_date=Date(15540), order_priority='H', sales_channel='Offline', ship_date=Date(15565), total_cost=1257823.75, total_profit=756335.375, total_revenue=2014159.25, unit_cost=159.4199981689453, unit_price=255.27999877929688, units_sold=7890)\n",
            "Row(region='Europe', order_id=756839835, country='Romania', item_type='Beverages', order_date=Date(15389), order_priority='M', sales_channel='Online', ship_date=Date(15412), total_cost=145629.984375, total_profit=71738.4609375, total_revenue=217368.453125, unit_cost=31.790000915527344, unit_price=47.45000076293945, units_sold=4581)\n",
            "Row(region='Europe', order_id=757257401, country='Finland', item_type='Household', order_date=Date(16815), order_priority='H', sales_channel='Offline', ship_date=Date(16831), total_cost=4094696.0, total_profit=1350368.0, total_revenue=5445064.0, unit_cost=502.5400085449219, unit_price=668.27001953125, units_sold=8148)\n",
            "Row(region='Europe', order_id=797385394, country='Italy', item_type='Office Supplies', order_date=Date(15062), order_priority='H', sales_channel='Online', ship_date=Date(15075), total_cost=1529208.5, total_profit=367766.25, total_revenue=1896974.75, unit_cost=524.9600219726562, unit_price=651.2100219726562, units_sold=2913)\n",
            "Row(region='Europe', order_id=830410039, country='Switzerland', item_type='Office Supplies', order_date=Date(16280), order_priority='C', sales_channel='Offline', ship_date=Date(16309), total_cost=2960249.5, total_profit=711923.75, total_revenue=3672173.25, unit_cost=524.9600219726562, unit_price=651.2100219726562, units_sold=5639)\n",
            "Row(region='Europe', order_id=835696351, country='Estonia', item_type='Household', order_date=Date(15218), order_priority='H', sales_channel='Offline', ship_date=Date(15268), total_cost=5013339.0, total_profit=1653322.5, total_revenue=6666661.5, unit_cost=502.5400085449219, unit_price=668.27001953125, units_sold=9976)\n",
            "Row(region='Europe', order_id=845056617, country='Netherlands', item_type='Fruits', order_date=Date(17124), order_priority='L', sales_channel='Online', ship_date=Date(17135), total_cost=68418.0390625, total_profit=23827.669921875, total_revenue=92245.7109375, unit_cost=6.920000076293945, unit_price=9.329999923706055, units_sold=9887)\n",
            "Row(region='Europe', order_id=887124383, country='Greece', item_type='Cereal', order_date=Date(16669), order_priority='H', sales_channel='Online', ship_date=Date(16716), total_cost=1015812.125, total_profit=768429.6875, total_revenue=1784241.75, unit_cost=117.11000061035156, unit_price=205.6999969482422, units_sold=8674)\n",
            "Row(region='Europe', order_id=887409770, country='Italy', item_type='Cereal', order_date=Date(16769), order_priority='C', sales_channel='Online', ship_date=Date(16774), total_cost=366085.875, total_profit=276932.34375, total_revenue=643018.1875, unit_cost=117.11000061035156, unit_price=205.6999969482422, units_sold=3126)\n",
            "Row(region='Europe', order_id=902511680, country='Montenegro', item_type='Clothes', order_date=Date(17048), order_priority='M', sales_channel='Offline', ship_date=Date(17052), total_cost=75873.28125, total_profit=155472.484375, total_revenue=231345.765625, unit_cost=35.84000015258789, unit_price=109.27999877929688, units_sold=2117)\n",
            "Row(region='Europe', order_id=925136649, country='Serbia', item_type='Clothes', order_date=Date(16988), order_priority='L', sales_channel='Offline', ship_date=Date(16995), total_cost=263352.3125, total_profit=539637.125, total_revenue=802989.4375, unit_cost=35.84000015258789, unit_price=109.27999877929688, units_sold=7348)\n",
            "Row(region='Middle East and North Africa', order_id=358570849, country='Oman', item_type='Cosmetics', order_date=Date(14942), order_priority='H', sales_channel='Online', ship_date=Date(14971), total_cost=2090050.25, total_profit=1380006.25, total_revenue=3470056.5, unit_cost=263.3299865722656, unit_price=437.20001220703125, units_sold=7937)\n",
            "Row(region='Middle East and North Africa', order_id=371502530, country='Israel', item_type='Beverages', order_date=Date(15956), order_priority='H', sales_channel='Offline', ship_date=Date(15991), total_cost=149699.109375, total_profit=73742.9375, total_revenue=223442.046875, unit_cost=31.790000915527344, unit_price=47.45000076293945, units_sold=4709)\n",
            "Row(region='Middle East and North Africa', order_id=425418365, country='United Arab Emirates', item_type='Office Supplies', order_date=Date(15514), order_priority='M', sales_channel='Online', ship_date=Date(15527), total_cost=5041191.0, total_profit=1212378.75, total_revenue=6253569.5, unit_cost=524.9600219726562, unit_price=651.2100219726562, units_sold=9603)\n",
            "Row(region='Middle East and North Africa', order_id=459386289, country='Kuwait', item_type='Household', order_date=Date(15138), order_priority='C', sales_channel='Offline', ship_date=Date(15176), total_cost=736723.625, total_profit=242960.1875, total_revenue=979683.8125, unit_cost=502.5400085449219, unit_price=668.27001953125, units_sold=1466)\n",
            "Row(region='Middle East and North Africa', order_id=479969346, country='Tunisia ', item_type='Cosmetics', order_date=Date(15522), order_priority='H', sales_channel='Offline', ship_date=Date(15541), total_cost=645158.5, total_profit=425981.5, total_revenue=1071140.0, unit_cost=263.3299865722656, unit_price=437.20001220703125, units_sold=2450)\n",
            "Row(region='Middle East and North Africa', order_id=500371730, country='Pakistan', item_type='Meat', order_date=Date(16067), order_priority='M', sales_channel='Online', ship_date=Date(16116), total_cost=3635594.5, total_profit=570226.8125, total_revenue=4205821.5, unit_cost=364.69000244140625, unit_price=421.8900146484375, units_sold=9969)\n",
            "Row(region='Middle East and North Africa', order_id=667593514, country='Morocco', item_type='Clothes', order_date=Date(15962), order_priority='M', sales_channel='Online', ship_date=Date(15997), total_cost=165258.234375, total_profit=338631.84375, total_revenue=503890.09375, unit_cost=35.84000015258789, unit_price=109.27999877929688, units_sold=4611)\n",
            "Row(region='Middle East and North Africa', order_id=704205024, country='Lebanon', item_type='Meat', order_date=Date(17233), order_priority='L', sales_channel='Online', ship_date=Date(17274), total_cost=3198331.25, total_profit=501644.0, total_revenue=3699975.25, unit_cost=364.69000244140625, unit_price=421.8900146484375, units_sold=8770)\n",
            "Row(region='Middle East and North Africa', order_id=761723172, country='Algeria', item_type='Cosmetics', order_date=Date(15023), order_priority='M', sales_channel='Online', ship_date=Date(15029), total_cost=2546137.75, total_profit=1681149.0, total_revenue=4227287.0, unit_cost=263.3299865722656, unit_price=437.20001220703125, units_sold=9669)\n",
            "Row(region='Middle East and North Africa', order_id=882908809, country='Egypt', item_type='Clothes', order_date=Date(17022), order_priority='C', sales_channel='Online', ship_date=Date(17037), total_cost=42721.28125, total_profit=87540.4765625, total_revenue=130261.7578125, unit_cost=35.84000015258789, unit_price=109.27999877929688, units_sold=1192)\n",
            "Row(region='Central America and the Caribbean', order_id=246248090, country='The Bahamas', item_type='Personal Care', order_date=Date(14993), order_priority='C', sales_channel='Online', ship_date=Date(15026), total_cost=517793.78125, total_profit=228973.21875, total_revenue=746767.0, unit_cost=56.66999816894531, unit_price=81.7300033569336, units_sold=9137)\n",
            "Row(region='Central America and the Caribbean', order_id=274930989, country='Dominica', item_type='Household', order_date=Date(15297), order_priority='C', sales_channel='Offline', ship_date=Date(15321), total_cost=3539891.75, total_profit=1167402.125, total_revenue=4707294.0, unit_cost=502.5400085449219, unit_price=668.27001953125, units_sold=7044)\n",
            "Row(region='Central America and the Caribbean', order_id=286891067, country='Antigua and Barbuda ', item_type='Office Supplies', order_date=Date(15249), order_priority='C', sales_channel='Offline', ship_date=Date(15251), total_cost=3305673.0, total_profit=794996.25, total_revenue=4100669.25, unit_cost=524.9600219726562, unit_price=651.2100219726562, units_sold=6297)\n",
            "Row(region='Central America and the Caribbean', order_id=315402734, country='Belize', item_type='Personal Care', order_date=Date(16600), order_priority='H', sales_channel='Online', ship_date=Date(16649), total_cost=200215.109375, total_profit=88536.9765625, total_revenue=288752.09375, unit_cost=56.66999816894531, unit_price=81.7300033569336, units_sold=3533)\n",
            "Row(region='Central America and the Caribbean', order_id=343752610, country='Nicaragua', item_type='Baby Food', order_date=Date(17116), order_priority='L', sales_channel='Online', ship_date=Date(17121), total_cost=460883.21875, total_profit=277131.25, total_revenue=738014.5, unit_cost=159.4199981689453, unit_price=255.27999877929688, units_sold=2891)\n",
            "Row(region='Central America and the Caribbean', order_id=438011872, country='Dominica', item_type='Beverages', order_date=Date(15503), order_priority='L', sales_channel='Online', ship_date=Date(15539), total_cost=200308.796875, total_profit=98673.65625, total_revenue=298982.4375, unit_cost=31.790000915527344, unit_price=47.45000076293945, units_sold=6301)\n",
            "Row(region='Central America and the Caribbean', order_id=485070693, country='Haiti', item_type='Office Supplies', order_date=Date(14974), order_priority='C', sales_channel='Online', ship_date=Date(15005), total_cost=1077217.875, total_profit=259065.0, total_revenue=1336282.875, unit_cost=524.9600219726562, unit_price=651.2100219726562, units_sold=2052)\n",
            "Row(region='Central America and the Caribbean', order_id=488121116, country='The Bahamas', item_type='Fruits', order_date=Date(14778), order_priority='L', sales_channel='Offline', ship_date=Date(14790), total_cost=32800.80078125, total_profit=11423.400390625, total_revenue=44224.19921875, unit_cost=6.920000076293945, unit_price=9.329999923706055, units_sold=4740)\n",
            "Row(region='Central America and the Caribbean', order_id=573998582, country='Nicaragua', item_type='Household', order_date=Date(16736), order_priority='C', sales_channel='Online', ship_date=Date(16776), total_cost=3915289.25, total_profit=1291202.375, total_revenue=5206491.5, unit_cost=502.5400085449219, unit_price=668.27001953125, units_sold=7791)\n",
            "Row(region='Central America and the Caribbean', order_id=731120240, country='Saint Lucia', item_type='Fruits', order_date=Date(16781), order_priority='L', sales_channel='Offline', ship_date=Date(16812), total_cost=24780.51953125, total_profit=8630.2099609375, total_revenue=33410.73046875, unit_cost=6.920000076293945, unit_price=9.329999923706055, units_sold=3581)\n",
            "Row(region='Central America and the Caribbean', order_id=824714744, country='Dominican Republic', item_type='Baby Food', order_date=Date(15211), order_priority='H', sales_channel='Offline', ship_date=Date(15241), total_cost=43681.078125, total_profit=26265.640625, total_revenue=69946.71875, unit_cost=159.4199981689453, unit_price=255.27999877929688, units_sold=274)\n",
            "Row(region='Asia', order_id=116205585, country='Turkmenistan', item_type='Vegetables', order_date=Date(16538), order_priority='M', sales_channel='Online', ship_date=Date(16588), total_cost=606503.125, total_profit=421077.09375, total_revenue=1027580.1875, unit_cost=90.93000030517578, unit_price=154.05999755859375, units_sold=6670)\n",
            "Row(region='Asia', order_id=153842341, country='Brunei', item_type='Cereal', order_date=Date(15853), order_priority='L', sales_channel='Offline', ship_date=Date(15902), total_cost=494438.40625, total_profit=374026.96875, total_revenue=868465.375, unit_cost=117.11000061035156, unit_price=205.6999969482422, units_sold=4222)\n",
            "Row(region='Asia', order_id=176461303, country='Singapore', item_type='Snacks', order_date=Date(15733), order_priority='C', sales_channel='Online', ship_date=Date(15743), total_cost=747949.4375, total_profit=423254.625, total_revenue=1171204.125, unit_cost=97.44000244140625, unit_price=152.5800018310547, units_sold=7676)\n",
            "Row(region='Asia', order_id=179137074, country='Nepal', item_type='Meat', order_date=Date(16122), order_priority='H', sales_channel='Online', ship_date=Date(16143), total_cost=3463096.25, total_profit=543171.1875, total_revenue=4006267.5, unit_cost=364.69000244140625, unit_price=421.8900146484375, units_sold=9496)\n",
            "Row(region='Asia', order_id=198927056, country='China', item_type='Office Supplies', order_date=Date(16841), order_priority='M', sales_channel='Online', ship_date=Date(16889), total_cost=3040043.25, total_profit=731113.75, total_revenue=3771157.0, unit_cost=524.9600219726562, unit_price=651.2100219726562, units_sold=5791)\n",
            "Row(region='Asia', order_id=252889239, country='Thailand', item_type='Meat', order_date=Date(16470), order_priority='C', sales_channel='Online', ship_date=Date(16485), total_cost=1605000.75, total_profit=251737.203125, total_revenue=1856737.875, unit_cost=364.69000244140625, unit_price=421.8900146484375, units_sold=4401)\n",
            "Row(region='Asia', order_id=297876536, country='South Korea', item_type='Meat', order_date=Date(16876), order_priority='L', sales_channel='Offline', ship_date=Date(16911), total_cost=2604251.25, total_profit=408465.1875, total_revenue=3012716.5, unit_cost=364.69000244140625, unit_price=421.8900146484375, units_sold=7141)\n",
            "Row(region='Asia', order_id=314505374, country='Vietnam', item_type='Personal Care', order_date=Date(14703), order_priority='M', sales_channel='Online', ship_date=Date(14735), total_cost=452453.28125, total_profit=200079.046875, total_revenue=652532.3125, unit_cost=56.66999816894531, unit_price=81.7300033569336, units_sold=7984)\n",
            "Row(region='Asia', order_id=434008300, country='Thailand', item_type='Fruits', order_date=Date(15613), order_priority='C', sales_channel='Offline', ship_date=Date(15658), total_cost=10760.599609375, total_profit=3747.550048828125, total_revenue=14508.150390625, unit_cost=6.920000076293945, unit_price=9.329999923706055, units_sold=1555)\n",
            "Row(region='Asia', order_id=440306556, country='India', item_type='Snacks', order_date=Date(15623), order_priority='L', sales_channel='Online', ship_date=Date(15664), total_cost=521206.5625, total_profit=294943.875, total_revenue=816150.4375, unit_cost=97.44000244140625, unit_price=152.5800018310547, units_sold=5349)\n",
            "Row(region='Asia', order_id=498071897, country='Taiwan', item_type='Cereal', order_date=Date(14710), order_priority='H', sales_channel='Online', ship_date=Date(14755), total_cost=1100482.625, total_profit=832480.25, total_revenue=1932962.875, unit_cost=117.11000061035156, unit_price=205.6999969482422, units_sold=9397)\n",
            "Row(region='Asia', order_id=520480573, country='Indonesia', item_type='Household', order_date=Date(15245), order_priority='C', sales_channel='Online', ship_date=Date(15245), total_cost=313082.40625, total_profit=103249.7890625, total_revenue=416332.21875, unit_cost=502.5400085449219, unit_price=668.27001953125, units_sold=623)\n",
            "Row(region='Asia', order_id=678896129, country='Indonesia', item_type='Personal Care', order_date=Date(15635), order_priority='L', sales_channel='Offline', ship_date=Date(15644), total_cost=527371.0, total_profit=233208.359375, total_revenue=760579.375, unit_cost=56.66999816894531, unit_price=81.7300033569336, units_sold=9306)\n",
            "Row(region='Asia', order_id=710296428, country='Kazakhstan', item_type='Snacks', order_date=Date(15956), order_priority='L', sales_channel='Online', ship_date=Date(16003), total_cost=131738.875, total_profit=74549.28125, total_revenue=206288.15625, unit_cost=97.44000244140625, unit_price=152.5800018310547, units_sold=1352)\n",
            "Row(region='Asia', order_id=732588374, country='Taiwan', item_type='Fruits', order_date=Date(16110), order_priority='M', sales_channel='Offline', ship_date=Date(16124), total_cost=55595.28125, total_profit=19361.939453125, total_revenue=74957.21875, unit_cost=6.920000076293945, unit_price=9.329999923706055, units_sold=8034)\n",
            "Row(region='Asia', order_id=747796285, country='Japan', item_type='Household', order_date=Date(16267), order_priority='M', sales_channel='Offline', ship_date=Date(16275), total_cost=4217818.0, total_profit=1390971.875, total_revenue=5608790.0, unit_cost=502.5400085449219, unit_price=668.27001953125, units_sold=8393)\n",
            "Row(region='Asia', order_id=757619178, country='Turkmenistan', item_type='Meat', order_date=Date(17286), order_priority='M', sales_channel='Online', ship_date=Date(17300), total_cost=1898576.125, total_profit=297783.1875, total_revenue=2196359.25, unit_cost=364.69000244140625, unit_price=421.8900146484375, units_sold=5206)\n",
            "Row(region='Asia', order_id=830192887, country='Sri Lanka', item_type='Fruits', order_date=Date(15285), order_priority='L', sales_channel='Online', ship_date=Date(15326), total_cost=9542.6796875, total_profit=3323.389892578125, total_revenue=12866.0703125, unit_cost=6.920000076293945, unit_price=9.329999923706055, units_sold=1379)\n",
            "Row(region='Asia', order_id=955894076, country='Malaysia', item_type='Beverages', order_date=Date(16387), order_priority='M', sales_channel='Online', ship_date=Date(16432), total_cost=291005.65625, total_profit=143351.640625, total_revenue=434357.3125, unit_cost=31.790000915527344, unit_price=47.45000076293945, units_sold=9154)\n",
            "Row(region='Sub-Saharan Africa', order_id=146634709, country='Liberia', item_type='Baby Food', order_date=Date(16592), order_priority='H', sales_channel='Offline', ship_date=Date(16598), total_cost=211072.078125, total_profit=126918.640625, total_revenue=337990.71875, unit_cost=159.4199981689453, unit_price=255.27999877929688, units_sold=1324)\n",
            "Row(region='Sub-Saharan Africa', order_id=156530129, country='Tanzania', item_type='Fruits', order_date=Date(16363), order_priority='H', sales_channel='Offline', ship_date=Date(16403), total_cost=66425.078125, total_profit=23133.58984375, total_revenue=89558.671875, unit_cost=6.920000076293945, unit_price=9.329999923706055, units_sold=9599)\n",
            "Row(region='Sub-Saharan Africa', order_id=349235904, country='Mauritius ', item_type='Clothes', order_date=Date(15661), order_priority='M', sales_channel='Offline', ship_date=Date(15676), total_cost=197836.796875, total_profit=405388.8125, total_revenue=603225.625, unit_cost=35.84000015258789, unit_price=109.27999877929688, units_sold=5520)\n",
            "Row(region='Sub-Saharan Africa', order_id=363086831, country='Mali', item_type='Household', order_date=Date(14840), order_priority='M', sales_channel='Offline', ship_date=Date(14859), total_cost=2169465.25, total_profit=715456.4375, total_revenue=2884921.5, unit_cost=502.5400085449219, unit_price=668.27001953125, units_sold=4317)\n",
            "Row(region='Sub-Saharan Africa', order_id=425793445, country='Seychelles ', item_type='Beverages', order_date=Date(15723), order_priority='M', sales_channel='Online', ship_date=Date(15752), total_cost=18978.630859375, total_profit=9349.01953125, total_revenue=28327.650390625, unit_cost=31.790000915527344, unit_price=47.45000076293945, units_sold=597)\n",
            "Row(region='Sub-Saharan Africa', order_id=443368995, country='South Africa', item_type='Fruits', order_date=Date(15548), order_priority='M', sales_channel='Offline', ship_date=Date(15549), total_cost=11023.5595703125, total_profit=3839.1298828125, total_revenue=14862.6904296875, unit_cost=6.920000076293945, unit_price=9.329999923706055, units_sold=1593)\n",
            "Row(region='Sub-Saharan Africa', order_id=450544869, country='Malawi', item_type='Meat', order_date=Date(16861), order_priority='H', sales_channel='Offline', ship_date=Date(16872), total_cost=1857730.875, total_profit=291376.8125, total_revenue=2149107.75, unit_cost=364.69000244140625, unit_price=421.8900146484375, units_sold=5094)\n",
            "Row(region='Sub-Saharan Africa', order_id=494570004, country='Madagascar', item_type='Clothes', order_date=Date(17091), order_priority='L', sales_channel='Online', ship_date=Date(17100), total_cost=111462.3984375, total_profit=228398.40625, total_revenue=339860.8125, unit_cost=35.84000015258789, unit_price=109.27999877929688, units_sold=3110)\n",
            "Row(region='Sub-Saharan Africa', order_id=496523940, country='Ghana', item_type='Fruits', order_date=Date(16950), order_priority='M', sales_channel='Offline', ship_date=Date(16956), total_cost=9155.16015625, total_profit=3188.429931640625, total_revenue=12343.58984375, unit_cost=6.920000076293945, unit_price=9.329999923706055, units_sold=1323)\n",
            "Row(region='Sub-Saharan Africa', order_id=529276502, country='Burundi', item_type='Beverages', order_date=Date(15042), order_priority='H', sales_channel='Online', ship_date=Date(15073), total_cost=112314.0703125, total_profit=55326.78125, total_revenue=167640.84375, unit_cost=31.790000915527344, unit_price=47.45000076293945, units_sold=3533)\n",
            "Row(region='Sub-Saharan Africa', order_id=539471471, country='Uganda', item_type='Personal Care', order_date=Date(16240), order_priority='M', sales_channel='Online', ship_date=Date(16272), total_cost=25558.169921875, total_profit=11302.0595703125, total_revenue=36860.23046875, unit_cost=56.66999816894531, unit_price=81.7300033569336, units_sold=451)\n",
            "Row(region='Sub-Saharan Africa', order_id=548299157, country='Sao Tome and Principe', item_type='Clothes', order_date=Date(16750), order_priority='L', sales_channel='Offline', ship_date=Date(16797), total_cost=98918.3984375, total_profit=202694.40625, total_revenue=301612.8125, unit_cost=35.84000015258789, unit_price=109.27999877929688, units_sold=2760)\n",
            "Row(region='Sub-Saharan Africa', order_id=563681733, country='Togo', item_type='Cosmetics', order_date=Date(16686), order_priority='M', sales_channel='Online', ship_date=Date(16687), total_cost=1265564.0, total_profit=835619.25, total_revenue=2101183.25, unit_cost=263.3299865722656, unit_price=437.20001220703125, units_sold=4806)\n",
            "Row(region='Sub-Saharan Africa', order_id=584356629, country='Democratic Republic of the Congo', item_type='Cosmetics', order_date=Date(15620), order_priority='M', sales_channel='Online', ship_date=Date(15638), total_cost=781300.125, total_profit=515872.28125, total_revenue=1297172.375, unit_cost=263.3299865722656, unit_price=437.20001220703125, units_sold=2967)\n",
            "Row(region='Sub-Saharan Africa', order_id=601245963, country='Ghana', item_type='Office Supplies', order_date=Date(17248), order_priority='L', sales_channel='Online', ship_date=Date(17271), total_cost=470364.15625, total_profit=113120.0, total_revenue=583484.1875, unit_cost=524.9600219726562, unit_price=651.2100219726562, units_sold=896)\n",
            "Row(region='Sub-Saharan Africa', order_id=659878194, country='Tanzania', item_type='Beverages', order_date=Date(17135), order_priority='L', sales_channel='Online', ship_date=Date(17182), total_cost=46922.0390625, total_profit=23114.16015625, total_revenue=70036.203125, unit_cost=31.790000915527344, unit_price=47.45000076293945, units_sold=1476)\n",
            "Row(region='Sub-Saharan Africa', order_id=699160754, country='Rwanda', item_type='Fruits', order_date=Date(15588), order_priority='L', sales_channel='Online', ship_date=Date(15598), total_cost=41928.28125, total_profit=14602.1904296875, total_revenue=56530.46875, unit_cost=6.920000076293945, unit_price=9.329999923706055, units_sold=6059)\n",
            "Row(region='Sub-Saharan Africa', order_id=739008080, country='Tanzania', item_type='Cosmetics', order_date=Date(16944), order_priority='L', sales_channel='Offline', ship_date=Date(16945), total_cost=2045547.5, total_profit=1350622.125, total_revenue=3396169.5, unit_cost=263.3299865722656, unit_price=437.20001220703125, units_sold=7768)\n",
            "Row(region='Sub-Saharan Africa', order_id=791778934, country='Ghana', item_type='Clothes', order_date=Date(15280), order_priority='M', sales_channel='Online', ship_date=Date(15309), total_cost=137482.234375, total_profit=281715.84375, total_revenue=419198.09375, unit_cost=35.84000015258789, unit_price=109.27999877929688, units_sold=3836)\n",
            "Row(region='Sub-Saharan Africa', order_id=807785928, country='Ethiopia', item_type='Cosmetics', order_date=Date(15162), order_priority='M', sales_channel='Online', ship_date=Date(15180), total_cost=174324.453125, total_profit=115101.9375, total_revenue=289426.40625, unit_cost=263.3299865722656, unit_price=437.20001220703125, units_sold=662)\n",
            "Row(region='Sub-Saharan Africa', order_id=842238795, country='Uganda', item_type='Cosmetics', order_date=Date(16494), order_priority='M', sales_channel='Online', ship_date=Date(16509), total_cost=1588143.25, total_profit=1048610.0, total_revenue=2636753.25, unit_cost=263.3299865722656, unit_price=437.20001220703125, units_sold=6031)\n",
            "Row(region='Sub-Saharan Africa', order_id=862861335, country='The Gambia', item_type='Fruits', order_date=Date(15298), order_priority='C', sales_channel='Online', ship_date=Date(15300), total_cost=60197.078125, total_profit=20964.58984375, total_revenue=81161.671875, unit_cost=6.920000076293945, unit_price=9.329999923706055, units_sold=8699)\n",
            "Row(region='Sub-Saharan Africa', order_id=880811536, country='Djibouti', item_type='Clothes', order_date=Date(17303), order_priority='H', sales_channel='Offline', ship_date=Date(17349), total_cost=20142.080078125, total_profit=41273.28125, total_revenue=61415.359375, unit_cost=35.84000015258789, unit_price=109.27999877929688, units_sold=562)\n",
            "Row(region='Sub-Saharan Africa', order_id=953361213, country='Zimbabwe', item_type='Office Supplies', order_date=Date(15061), order_priority='C', sales_channel='Offline', ship_date=Date(15072), total_cost=5051690.0, total_profit=1214903.75, total_revenue=6266594.0, unit_cost=524.9600219726562, unit_price=651.2100219726562, units_sold=9623)\n",
            "Row(region='North America', order_id=190777862, country='United States of America', item_type='Personal Care', order_date=Date(16821), order_priority='H', sales_channel='Online', ship_date=Date(16850), total_cost=241640.875, total_profit=106855.84375, total_revenue=348496.71875, unit_cost=56.66999816894531, unit_price=81.7300033569336, units_sold=4264)\n",
            "Row(region='North America', order_id=368977391, country='Canada', item_type='Cosmetics', order_date=Date(15103), order_priority='H', sales_channel='Online', ship_date=Date(15127), total_cost=1965495.125, total_profit=1297765.625, total_revenue=3263260.75, unit_cost=263.3299865722656, unit_price=437.20001220703125, units_sold=7464)\n"
          ]
        }
      ]
    },
    {
      "cell_type": "code",
      "source": [
        "# 3. Create Gold Tables\n",
        "session.execute(\"\"\"\n",
        "CREATE TABLE IF NOT EXISTS gold_sales_by_region (\n",
        "    region TEXT PRIMARY KEY,\n",
        "    total_revenue FLOAT,\n",
        "    total_profit FLOAT\n",
        ")\n",
        "\"\"\")\n",
        "# Populate Gold Table 1: Sales by Region\n",
        "region_data = session.execute(\"SELECT region, total_revenue, total_profit FROM silver_sales\")\n",
        "region_df = pd.DataFrame(region_data, columns=['region', 'total_revenue', 'total_profit'])\n",
        "region_summary = region_df.groupby('region').sum().reset_index()\n",
        "for _, row in region_summary.iterrows():\n",
        "    session.execute(\"\"\"\n",
        "    INSERT INTO gold_sales_by_region (region, total_revenue, total_profit)\n",
        "    VALUES (%s, %s, %s)\n",
        "    \"\"\", (row['region'], row['total_revenue'], row['total_profit']))\n",
        "\n",
        "session.execute(\"\"\"\n",
        "CREATE TABLE IF NOT EXISTS gold_top_items (\n",
        "    item_type TEXT PRIMARY KEY,\n",
        "    total_revenue FLOAT,\n",
        "    units_sold INT\n",
        ")\n",
        "\"\"\")\n",
        "# Populate Gold Table 2: Top Items by Revenue\n",
        "item_data = session.execute(\"SELECT item_type, total_revenue, units_sold FROM silver_sales\")\n",
        "item_df = pd.DataFrame(item_data, columns=['item_type', 'total_revenue', 'units_sold'])\n",
        "item_summary = item_df.groupby('item_type').sum().reset_index()\n",
        "for _, row in item_summary.iterrows():\n",
        "    session.execute(\"\"\"\n",
        "    INSERT INTO gold_top_items (item_type, total_revenue, units_sold)\n",
        "    VALUES (%s, %s, %s)\n",
        "    \"\"\", (row['item_type'], row['total_revenue'], row['units_sold']))\n",
        "\n",
        "session.execute(\"\"\"\n",
        "CREATE TABLE IF NOT EXISTS gold_channel_profit (\n",
        "    sales_channel TEXT PRIMARY KEY,\n",
        "    total_profit FLOAT\n",
        ")\n",
        "\"\"\")\n",
        "\n",
        "print(\"Gold tables created.\")\n",
        "\n",
        "# Populate Gold Table 3: Profitability by Sales Channel\n",
        "channel_data = session.execute(\"SELECT sales_channel, total_profit FROM silver_sales\")\n",
        "channel_df = pd.DataFrame(channel_data, columns=['sales_channel', 'total_profit'])\n",
        "channel_summary = channel_df.groupby('sales_channel').sum().reset_index()\n",
        "for _, row in channel_summary.iterrows():\n",
        "    session.execute(\"\"\"\n",
        "    INSERT INTO gold_channel_profit (sales_channel, total_profit)\n",
        "    VALUES (%s, %s)\n",
        "    \"\"\", (row['sales_channel'], row['total_profit']))\n",
        "\n",
        "print(\"Data inserted into Gold tables.\")"
      ],
      "metadata": {
        "colab": {
          "base_uri": "https://localhost:8080/"
        },
        "id": "a6nyU1SXx8bG",
        "outputId": "c34c96f5-2934-4aa1-e212-cb9279475d55"
      },
      "execution_count": 41,
      "outputs": [
        {
          "output_type": "stream",
          "name": "stdout",
          "text": [
            "Gold tables created.\n",
            "Data inserted into Gold tables.\n"
          ]
        }
      ]
    },
    {
      "cell_type": "code",
      "source": [
        "# Retrieve and display all data for gold_sales_by_region\n",
        "print(\"\\nData in gold_sales_by_region:\")\n",
        "rows = session.execute(\"SELECT * FROM gold_sales_by_region\")\n",
        "for row in rows:\n",
        "    print(f\"Region: {row.region}, Total Revenue: {row.total_revenue}, Total Profit: {row.total_profit}\")"
      ],
      "metadata": {
        "colab": {
          "base_uri": "https://localhost:8080/"
        },
        "id": "riKyDpCt0bnd",
        "outputId": "3f5681a1-be29-49b5-c1e2-4cf7671e80b4"
      },
      "execution_count": 44,
      "outputs": [
        {
          "output_type": "stream",
          "name": "stdout",
          "text": [
            "\n",
            "Data in gold_sales_by_region:\n",
            "Region: Australia and Oceania, Total Revenue: 10711258.0, Total Profit: 3486940.0\n",
            "Region: Europe, Total Revenue: 34964748.0, Total Profit: 11267281.0\n",
            "Region: Middle East and North Africa, Total Revenue: 24765128.0, Total Profit: 6514262.0\n",
            "Region: Central America and the Caribbean, Total Revenue: 17570836.0, Total Profit: 4252300.0\n",
            "Region: Asia, Total Revenue: 28840812.0, Total Profit: 6749896.0\n",
            "Region: Sub-Saharan Africa, Total Revenue: 24225438.0, Total Profit: 7651892.0\n",
            "Region: North America, Total Revenue: 3611757.5, Total Profit: 1404621.5\n"
          ]
        }
      ]
    },
    {
      "cell_type": "code",
      "source": [
        "# Retrieve and display all data for gold_top_items\n",
        "print(\"\\nData in gold_top_items:\")\n",
        "rows = session.execute(\"SELECT * FROM gold_top_items\")\n",
        "for row in rows:\n",
        "    print(f\"Item Type: {row.item_type}, Total Revenue: {row.total_revenue}, Units Sold: {row.units_sold}\")"
      ],
      "metadata": {
        "colab": {
          "base_uri": "https://localhost:8080/"
        },
        "id": "VgOxAQ4n00MR",
        "outputId": "84e42021-230f-444d-cda0-b3821c188e1b"
      },
      "execution_count": 45,
      "outputs": [
        {
          "output_type": "stream",
          "name": "stdout",
          "text": [
            "\n",
            "Data in gold_top_items:\n",
            "Item Type: Household, Total Revenue: 38519084.0, Units Sold: 57640\n",
            "Item Type: Office Supplies, Total Revenue: 27880904.0, Units Sold: 42814\n",
            "Item Type: Vegetables, Total Revenue: 1135114.125, Units Sold: 7368\n",
            "Item Type: Snacks, Total Revenue: 2193642.75, Units Sold: 14377\n",
            "Item Type: Personal Care, Total Revenue: 3191147.75, Units Sold: 39045\n",
            "Item Type: Meat, Total Revenue: 21278866.0, Units Sold: 50437\n",
            "Item Type: Fruits, Total Revenue: 615033.625, Units Sold: 65920\n",
            "Item Type: Beverages, Total Revenue: 2145024.75, Units Sold: 45206\n",
            "Item Type: Cereal, Total Revenue: 9416123.0, Units Sold: 45776\n",
            "Item Type: Cosmetics, Total Revenue: 28727100.0, Units Sold: 65707\n",
            "Item Type: Baby Food, Total Revenue: 5200564.0, Units Sold: 20372\n",
            "Item Type: Clothes, Total Revenue: 4387373.5, Units Sold: 40148\n"
          ]
        }
      ]
    },
    {
      "cell_type": "code",
      "source": [
        "# Retrieve and display all data for gold_channel_profit\n",
        "print(\"\\nData in gold_channel_profit:\")\n",
        "rows = session.execute(\"SELECT * FROM gold_channel_profit\")\n",
        "for row in rows:\n",
        "    print(f\"Sales Channel: {row.sales_channel}, Total Profit: {row.total_profit}\")\n"
      ],
      "metadata": {
        "colab": {
          "base_uri": "https://localhost:8080/"
        },
        "id": "8xcXGOxX1ByW",
        "outputId": "8ca1017c-867c-4033-9df4-f85aa9f9cb7d"
      },
      "execution_count": 46,
      "outputs": [
        {
          "output_type": "stream",
          "name": "stdout",
          "text": [
            "\n",
            "Data in gold_channel_profit:\n",
            "Sales Channel: Online, Total Profit: 24963806.0\n",
            "Sales Channel: Offline, Total Profit: 16363386.0\n"
          ]
        }
      ]
    },
    {
      "cell_type": "code",
      "source": [],
      "metadata": {
        "id": "jiN3si2z1DSC"
      },
      "execution_count": null,
      "outputs": []
    }
  ]
}